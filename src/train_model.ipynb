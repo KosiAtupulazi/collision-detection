{
 "cells": [
  {
   "cell_type": "code",
   "execution_count": null,
   "id": "15cc723f",
   "metadata": {},
   "outputs": [],
   "source": [
    "%pip install torch torchvision\n"
   ]
  },
  {
   "cell_type": "code",
   "execution_count": 7,
   "id": "db08eed7",
   "metadata": {},
   "outputs": [
    {
     "name": "stdout",
     "output_type": "stream",
     "text": [
      "Collecting torch-lr-finder\n",
      "  Downloading torch_lr_finder-0.2.2-py3-none-any.whl (12 kB)\n",
      "Collecting matplotlib\n",
      "  Downloading matplotlib-3.10.3-cp310-cp310-manylinux_2_17_x86_64.manylinux2014_x86_64.whl (8.6 MB)\n",
      "\u001b[2K     \u001b[90m━━━━━━━━━━━━━━━━━━━━━━━━━━━━━━━━━━━━━━━━\u001b[0m \u001b[32m8.6/8.6 MB\u001b[0m \u001b[31m30.1 MB/s\u001b[0m eta \u001b[36m0:00:00\u001b[0m00:01\u001b[0m00:01\u001b[0m\n",
      "\u001b[?25hRequirement already satisfied: tqdm in /home/atupulazi/personal_projects/collision-detection/.venv/lib/python3.10/site-packages (from torch-lr-finder) (4.67.1)\n",
      "Requirement already satisfied: numpy in /home/atupulazi/personal_projects/collision-detection/.venv/lib/python3.10/site-packages (from torch-lr-finder) (2.2.6)\n",
      "Requirement already satisfied: torch>=0.4.1 in /home/atupulazi/personal_projects/collision-detection/.venv/lib/python3.10/site-packages (from torch-lr-finder) (2.7.1)\n",
      "Requirement already satisfied: packaging in /home/atupulazi/personal_projects/collision-detection/.venv/lib/python3.10/site-packages (from torch-lr-finder) (24.2)\n",
      "Requirement already satisfied: nvidia-nvjitlink-cu12==12.6.85 in /home/atupulazi/personal_projects/collision-detection/.venv/lib/python3.10/site-packages (from torch>=0.4.1->torch-lr-finder) (12.6.85)\n",
      "Requirement already satisfied: nvidia-curand-cu12==10.3.7.77 in /home/atupulazi/personal_projects/collision-detection/.venv/lib/python3.10/site-packages (from torch>=0.4.1->torch-lr-finder) (10.3.7.77)\n",
      "Requirement already satisfied: nvidia-cuda-nvrtc-cu12==12.6.77 in /home/atupulazi/personal_projects/collision-detection/.venv/lib/python3.10/site-packages (from torch>=0.4.1->torch-lr-finder) (12.6.77)\n",
      "Requirement already satisfied: nvidia-cuda-cupti-cu12==12.6.80 in /home/atupulazi/personal_projects/collision-detection/.venv/lib/python3.10/site-packages (from torch>=0.4.1->torch-lr-finder) (12.6.80)\n",
      "Requirement already satisfied: nvidia-cublas-cu12==12.6.4.1 in /home/atupulazi/personal_projects/collision-detection/.venv/lib/python3.10/site-packages (from torch>=0.4.1->torch-lr-finder) (12.6.4.1)\n",
      "Requirement already satisfied: nvidia-nccl-cu12==2.26.2 in /home/atupulazi/personal_projects/collision-detection/.venv/lib/python3.10/site-packages (from torch>=0.4.1->torch-lr-finder) (2.26.2)\n",
      "Requirement already satisfied: sympy>=1.13.3 in /home/atupulazi/personal_projects/collision-detection/.venv/lib/python3.10/site-packages (from torch>=0.4.1->torch-lr-finder) (1.14.0)\n",
      "Requirement already satisfied: nvidia-cusparse-cu12==12.5.4.2 in /home/atupulazi/personal_projects/collision-detection/.venv/lib/python3.10/site-packages (from torch>=0.4.1->torch-lr-finder) (12.5.4.2)\n",
      "Requirement already satisfied: filelock in /home/atupulazi/personal_projects/collision-detection/.venv/lib/python3.10/site-packages (from torch>=0.4.1->torch-lr-finder) (3.18.0)\n",
      "Requirement already satisfied: nvidia-cusolver-cu12==11.7.1.2 in /home/atupulazi/personal_projects/collision-detection/.venv/lib/python3.10/site-packages (from torch>=0.4.1->torch-lr-finder) (11.7.1.2)\n",
      "Requirement already satisfied: nvidia-cudnn-cu12==9.5.1.17 in /home/atupulazi/personal_projects/collision-detection/.venv/lib/python3.10/site-packages (from torch>=0.4.1->torch-lr-finder) (9.5.1.17)\n",
      "Requirement already satisfied: networkx in /home/atupulazi/personal_projects/collision-detection/.venv/lib/python3.10/site-packages (from torch>=0.4.1->torch-lr-finder) (3.4.2)\n",
      "Requirement already satisfied: triton==3.3.1 in /home/atupulazi/personal_projects/collision-detection/.venv/lib/python3.10/site-packages (from torch>=0.4.1->torch-lr-finder) (3.3.1)\n",
      "Requirement already satisfied: fsspec in /home/atupulazi/personal_projects/collision-detection/.venv/lib/python3.10/site-packages (from torch>=0.4.1->torch-lr-finder) (2025.5.1)\n",
      "Requirement already satisfied: nvidia-nvtx-cu12==12.6.77 in /home/atupulazi/personal_projects/collision-detection/.venv/lib/python3.10/site-packages (from torch>=0.4.1->torch-lr-finder) (12.6.77)\n",
      "Requirement already satisfied: jinja2 in /home/atupulazi/personal_projects/collision-detection/.venv/lib/python3.10/site-packages (from torch>=0.4.1->torch-lr-finder) (3.1.6)\n",
      "Requirement already satisfied: nvidia-cufft-cu12==11.3.0.4 in /home/atupulazi/personal_projects/collision-detection/.venv/lib/python3.10/site-packages (from torch>=0.4.1->torch-lr-finder) (11.3.0.4)\n",
      "Requirement already satisfied: typing-extensions>=4.10.0 in /home/atupulazi/personal_projects/collision-detection/.venv/lib/python3.10/site-packages (from torch>=0.4.1->torch-lr-finder) (4.14.0)\n",
      "Requirement already satisfied: nvidia-cuda-runtime-cu12==12.6.77 in /home/atupulazi/personal_projects/collision-detection/.venv/lib/python3.10/site-packages (from torch>=0.4.1->torch-lr-finder) (12.6.77)\n",
      "Requirement already satisfied: nvidia-cusparselt-cu12==0.6.3 in /home/atupulazi/personal_projects/collision-detection/.venv/lib/python3.10/site-packages (from torch>=0.4.1->torch-lr-finder) (0.6.3)\n",
      "Requirement already satisfied: nvidia-cufile-cu12==1.11.1.6 in /home/atupulazi/personal_projects/collision-detection/.venv/lib/python3.10/site-packages (from torch>=0.4.1->torch-lr-finder) (1.11.1.6)\n",
      "Requirement already satisfied: setuptools>=40.8.0 in /home/atupulazi/personal_projects/collision-detection/.venv/lib/python3.10/site-packages (from triton==3.3.1->torch>=0.4.1->torch-lr-finder) (59.6.0)\n",
      "Collecting cycler>=0.10\n",
      "  Downloading cycler-0.12.1-py3-none-any.whl (8.3 kB)\n",
      "Requirement already satisfied: python-dateutil>=2.7 in /home/atupulazi/personal_projects/collision-detection/.venv/lib/python3.10/site-packages (from matplotlib->torch-lr-finder) (2.9.0.post0)\n",
      "Requirement already satisfied: pillow>=8 in /home/atupulazi/personal_projects/collision-detection/.venv/lib/python3.10/site-packages (from matplotlib->torch-lr-finder) (11.2.1)\n",
      "Collecting pyparsing>=2.3.1\n",
      "  Downloading pyparsing-3.2.3-py3-none-any.whl (111 kB)\n",
      "\u001b[2K     \u001b[90m━━━━━━━━━━━━━━━━━━━━━━━━━━━━━━━━━━━━━━\u001b[0m \u001b[32m111.1/111.1 KB\u001b[0m \u001b[31m18.8 MB/s\u001b[0m eta \u001b[36m0:00:00\u001b[0m\n",
      "\u001b[?25hCollecting fonttools>=4.22.0\n",
      "  Downloading fonttools-4.58.4-cp310-cp310-manylinux2014_x86_64.manylinux_2_17_x86_64.whl (4.8 MB)\n",
      "\u001b[2K     \u001b[90m━━━━━━━━━━━━━━━━━━━━━━━━━━━━━━━━━━━━━━━━\u001b[0m \u001b[32m4.8/4.8 MB\u001b[0m \u001b[31m39.3 MB/s\u001b[0m eta \u001b[36m0:00:00\u001b[0m00:01\u001b[0m00:01\u001b[0mm\n",
      "\u001b[?25hCollecting contourpy>=1.0.1\n",
      "  Downloading contourpy-1.3.2-cp310-cp310-manylinux_2_17_x86_64.manylinux2014_x86_64.whl (325 kB)\n",
      "\u001b[2K     \u001b[90m━━━━━━━━━━━━━━━━━━━━━━━━━━━━━━━━━━━━━━\u001b[0m \u001b[32m325.0/325.0 KB\u001b[0m \u001b[31m48.4 MB/s\u001b[0m eta \u001b[36m0:00:00\u001b[0m\n",
      "\u001b[?25hCollecting kiwisolver>=1.3.1\n",
      "  Downloading kiwisolver-1.4.8-cp310-cp310-manylinux_2_12_x86_64.manylinux2010_x86_64.whl (1.6 MB)\n",
      "\u001b[2K     \u001b[90m━━━━━━━━━━━━━━━━━━━━━━━━━━━━━━━━━━━━━━━━\u001b[0m \u001b[32m1.6/1.6 MB\u001b[0m \u001b[31m107.3 MB/s\u001b[0m eta \u001b[36m0:00:00\u001b[0m\n",
      "\u001b[?25hRequirement already satisfied: six>=1.5 in /home/atupulazi/personal_projects/collision-detection/.venv/lib/python3.10/site-packages (from python-dateutil>=2.7->matplotlib->torch-lr-finder) (1.17.0)\n",
      "Requirement already satisfied: mpmath<1.4,>=1.1.0 in /home/atupulazi/personal_projects/collision-detection/.venv/lib/python3.10/site-packages (from sympy>=1.13.3->torch>=0.4.1->torch-lr-finder) (1.3.0)\n",
      "Requirement already satisfied: MarkupSafe>=2.0 in /home/atupulazi/personal_projects/collision-detection/.venv/lib/python3.10/site-packages (from jinja2->torch>=0.4.1->torch-lr-finder) (3.0.2)\n",
      "Installing collected packages: pyparsing, kiwisolver, fonttools, cycler, contourpy, matplotlib, torch-lr-finder\n",
      "Successfully installed contourpy-1.3.2 cycler-0.12.1 fonttools-4.58.4 kiwisolver-1.4.8 matplotlib-3.10.3 pyparsing-3.2.3 torch-lr-finder-0.2.2\n",
      "Note: you may need to restart the kernel to use updated packages.\n"
     ]
    }
   ],
   "source": [
    "%pip install torch-lr-finder\n"
   ]
  },
  {
   "cell_type": "code",
   "execution_count": null,
   "id": "e894fef5",
   "metadata": {},
   "outputs": [],
   "source": [
    "import torch #for using tensors and any computations\n",
    "import torch.nn as nn # used to build neural networks (layers, loss functions)\n",
    "import torch.optim as optim #optim algos\n",
    "from torch.utils.data import Dataloader #loads data in batches and shuffles them\n",
    "from dataset import ClipDataset #custom dataset class for loading in the ds to the model\n",
    "from model import build_model_r3d_18 #function that defines the model\n",
    "from torch_lr_finder import LRFinder #finds a good lr to use for model updates\n",
    "import os"
   ]
  },
  {
   "cell_type": "code",
   "execution_count": null,
   "id": "c976cb5d",
   "metadata": {},
   "outputs": [],
   "source": [
    "# Set Device -> Load data -> Build Model -> pick loss/optimizer -> Train Loop -> Evaluate -> Save"
   ]
  },
  {
   "cell_type": "code",
   "execution_count": null,
   "id": "1cfeb548",
   "metadata": {},
   "outputs": [],
   "source": [
    "#Setting the device\n",
    "\n",
    "device = torch.device(\"cuda\" if torch.cuda.is_available() else \"cpu\")"
   ]
  },
  {
   "cell_type": "code",
   "execution_count": null,
   "id": "bd991086",
   "metadata": {},
   "outputs": [],
   "source": [
    "# Example Training Loop Explanation\n",
    "# outputs = model(clips)               # model makes guesses\n",
    "# loss = criterion(outputs, labels)    # \"someone\" tells how wrong the guesses were\n",
    "# loss.backward()                      # model feels the pain and learns\n",
    "# optimizer.step()                     # weights are updated based on the feedback\n",
    "\n",
    "# The loss function is like your teacher saying:\n",
    "#    \"You got 5 out of 8 wrong — here's how wrong you were and how much to adjust.\""
   ]
  },
  {
   "cell_type": "code",
   "execution_count": null,
   "id": "07e2b79d",
   "metadata": {},
   "outputs": [],
   "source": [
    "# Define and Load Dataset\n",
    "\n",
    "train_dataset = ClipDataset(csv_path=\"/home/atupulazi/personal_projects/collision-detection/frames/train/train_clip_labels.csv\")\n",
    "val_dataset = ClipDataset(csv_path=\"/home/atupulazi/personal_projects/collision-detection/frames/val/val_clip_labels.csv\")\n",
    "\n",
    "# batch_size is how many samples are passed into the model before the weights are updated\n",
    "    # You look at 8 clips at once, guess all of them, then someone (training loss) tells you how many you got right. \n",
    "    # You adjust your understanding based on all 8 at once\n",
    "train_loader = Dataloader(train_dataset, batch_size=8, shuffle=True)\n",
    "val_loader = Dataloader(val_dataset, batch_size=8, shuffle=False)"
   ]
  },
  {
   "cell_type": "code",
   "execution_count": null,
   "id": "19efd675",
   "metadata": {},
   "outputs": [],
   "source": [
    "# Build Model\n",
    "\n",
    "model = build_model_r3d_18\n",
    "model = model.to(device) # builds the model on the GPU if available or CPU if not"
   ]
  },
  {
   "cell_type": "code",
   "execution_count": null,
   "id": "713338bc",
   "metadata": {},
   "outputs": [],
   "source": [
    "# Pick Loss and Optimizer\n",
    "\n",
    "criterion = nn.CrossEntropyLoss()\n",
    "# model.parameters() are numbers the model can change to improve its performance. Pytorch does this automatically\n",
    "optimizer = optim.Adam(model.parameters(), lr=0.001)"
   ]
  },
  {
   "cell_type": "code",
   "execution_count": null,
   "id": "3ad06691",
   "metadata": {},
   "outputs": [],
   "source": [
    "lr_finder = LRFinder(model, optimizer, criterion, device=\"cuda\")\n",
    "lr_finder.range_test(train_loader, end_lr=1, num_iter=100)  # Try LRs from 1e-7 to 1\n",
    "\n",
    "# Plot the result\n",
    "lr_finder.plot()  # This shows you the graph\n",
    "lr_finder.reset() # Reset model & optimizer to initial state"
   ]
  },
  {
   "cell_type": "code",
   "execution_count": null,
   "id": "797c0533",
   "metadata": {},
   "outputs": [],
   "source": [
    "# Training Loop (Evaluate)\n",
    "\n",
    "num_of_epochs = 10 # More epochs = more chances to learn from the same data.\n",
    "\n",
    "for epoch in range(num_of_epochs):\n",
    "    # why? do u need this? exp what exactly it does\n",
    "    model.train() #  puts layers like dropout/batchnorm in training mode.\n",
    "    running_loss = 0.0 # Tracks cumulative loss for this epoch.\n",
    "\n",
    "    for clips, labels in train_loader:\n",
    "        clips, labels = clips.to(device), labels.to(device)\n",
    "\n",
    "        optimizer.zero_grad() # reset previous gradients? why?\n",
    "        outputs = model(clips) # Forward pass? meaning?\n",
    "        loss = criterion(outputs, labels) # Compute Loss\n",
    "        loss.backward() # backward pass (compute gradients). is this backprop? \n",
    "        optimizer.step() # update weights. how does this update weights? i thought weights updates going forward not backward\n",
    "\n",
    "        running_loss += loss.item #accumulate loss. what is item? why do we want to accumulate loss?\n",
    "\n",
    "    avg_loss = running_loss / len(train_loader) # Why are we dividing by the len of train_loader and not by the num of epochs\n",
    "    print(f\"[Epoch: {epoch+1}] Train Loss: {avg_loss:.4f}\") #why are we doing +1?"
   ]
  },
  {
   "cell_type": "code",
   "execution_count": null,
   "id": "0206bd45",
   "metadata": {},
   "outputs": [],
   "source": [
    "# Validation Loop\n",
    "\n",
    "model.eval() # turns off dropout, batchnorm updates. what are those and why do we turn them off?\n",
    "correct_predictions = 0\n",
    "total_seen = 0\n",
    "\n",
    "with torch.no_grad():\n",
    "    for clips, labels in val_loader:\n",
    "        clips, labels = clips.to(device), labels.to(device)\n",
    "        outputs = model(clips) #forward only, is there another way for backward? like why do we have to specify this\n",
    "        _, predicted = torch.max(outputs.data, 1) # only get predicted class. what is torch.max? outputs.data? 1?\n",
    "        total_seen += labels.size(0) #huh??\n",
    "        correct_predictions += (predicted == labels).sum().item # i understand that this is checking if the predicted label \n",
    "                                                                # is the sames as the actual labels but why use .sum and .item\n",
    "        accuracy = 100 * correct_predictions / total_seen # get the accuracy result out of a 100?\n",
    "        print(f\"Epoch: {epoch+1} Validation Accuracy: {accuracy: .2f}%\")\n",
    "\n",
    "    "
   ]
  },
  {
   "cell_type": "code",
   "execution_count": null,
   "id": "46cb1464",
   "metadata": {},
   "outputs": [],
   "source": [
    "#Save \n",
    "\n",
    "#what is being saved exactly?\n",
    "\n",
    "os.makedirs(\"checkpoints\", exist_ok=True)\n",
    "torch.save(model.state_dict(), \"checkpoints/r3d18_final.pth\")"
   ]
  },
  {
   "cell_type": "code",
   "execution_count": null,
   "id": "26cbfecf",
   "metadata": {},
   "outputs": [],
   "source": [
    "# Log metrics to a CSV:\n",
    "# with open(\"metrics_log.csv\", \"a\") as f:\n",
    "#     f.write(f\"{epoch+1},{avg_loss:.4f},{accuracy:.2f}\\n\")\n"
   ]
  },
  {
   "cell_type": "code",
   "execution_count": null,
   "id": "3ba26892",
   "metadata": {},
   "outputs": [],
   "source": [
    "#Early Stopping if accuracy doesnt improve\n",
    "# best_accuracy = 0\n",
    "# if accuracy > best_accuracy:\n",
    "#     best_accuracy = accuracy\n",
    "#     torch.save(model.state_dict(), \"checkpoints/best_model.pth\")\n",
    "#     patience_counter = 0\n",
    "# else:\n",
    "#     patience_counter += 1\n",
    "#     if patience_counter >= patience_limit:\n",
    "#         print(\"Early stopping triggered\")\n",
    "#         break\n"
   ]
  }
 ],
 "metadata": {
  "kernelspec": {
   "display_name": ".venv",
   "language": "python",
   "name": "python3"
  },
  "language_info": {
   "codemirror_mode": {
    "name": "ipython",
    "version": 3
   },
   "file_extension": ".py",
   "mimetype": "text/x-python",
   "name": "python",
   "nbconvert_exporter": "python",
   "pygments_lexer": "ipython3",
   "version": "3.10.12"
  }
 },
 "nbformat": 4,
 "nbformat_minor": 5
}
