{
 "cells": [
  {
   "cell_type": "code",
   "execution_count": 101,
   "id": "15cc723f",
   "metadata": {},
   "outputs": [
    {
     "name": "stdout",
     "output_type": "stream",
     "text": [
      "Requirement already satisfied: torch in /home/atupulazi/personal_projects/collision-detection/.venv/lib/python3.10/site-packages (2.7.1)\n",
      "Requirement already satisfied: torchvision in /home/atupulazi/personal_projects/collision-detection/.venv/lib/python3.10/site-packages (0.22.1)\n",
      "Requirement already satisfied: sympy>=1.13.3 in /home/atupulazi/personal_projects/collision-detection/.venv/lib/python3.10/site-packages (from torch) (1.14.0)\n",
      "Requirement already satisfied: nvidia-cublas-cu12==12.6.4.1 in /home/atupulazi/personal_projects/collision-detection/.venv/lib/python3.10/site-packages (from torch) (12.6.4.1)\n",
      "Requirement already satisfied: fsspec in /home/atupulazi/personal_projects/collision-detection/.venv/lib/python3.10/site-packages (from torch) (2025.5.1)\n",
      "Requirement already satisfied: nvidia-cufile-cu12==1.11.1.6 in /home/atupulazi/personal_projects/collision-detection/.venv/lib/python3.10/site-packages (from torch) (1.11.1.6)\n",
      "Requirement already satisfied: nvidia-cusparse-cu12==12.5.4.2 in /home/atupulazi/personal_projects/collision-detection/.venv/lib/python3.10/site-packages (from torch) (12.5.4.2)\n",
      "Requirement already satisfied: jinja2 in /home/atupulazi/personal_projects/collision-detection/.venv/lib/python3.10/site-packages (from torch) (3.1.6)\n",
      "Requirement already satisfied: nvidia-nvtx-cu12==12.6.77 in /home/atupulazi/personal_projects/collision-detection/.venv/lib/python3.10/site-packages (from torch) (12.6.77)\n",
      "Requirement already satisfied: nvidia-cuda-nvrtc-cu12==12.6.77 in /home/atupulazi/personal_projects/collision-detection/.venv/lib/python3.10/site-packages (from torch) (12.6.77)\n",
      "Requirement already satisfied: nvidia-cusparselt-cu12==0.6.3 in /home/atupulazi/personal_projects/collision-detection/.venv/lib/python3.10/site-packages (from torch) (0.6.3)\n",
      "Requirement already satisfied: nvidia-cusolver-cu12==11.7.1.2 in /home/atupulazi/personal_projects/collision-detection/.venv/lib/python3.10/site-packages (from torch) (11.7.1.2)\n",
      "Requirement already satisfied: networkx in /home/atupulazi/personal_projects/collision-detection/.venv/lib/python3.10/site-packages (from torch) (3.4.2)\n",
      "Requirement already satisfied: filelock in /home/atupulazi/personal_projects/collision-detection/.venv/lib/python3.10/site-packages (from torch) (3.18.0)\n",
      "Requirement already satisfied: nvidia-cudnn-cu12==9.5.1.17 in /home/atupulazi/personal_projects/collision-detection/.venv/lib/python3.10/site-packages (from torch) (9.5.1.17)\n",
      "Requirement already satisfied: nvidia-nccl-cu12==2.26.2 in /home/atupulazi/personal_projects/collision-detection/.venv/lib/python3.10/site-packages (from torch) (2.26.2)\n",
      "Requirement already satisfied: nvidia-nvjitlink-cu12==12.6.85 in /home/atupulazi/personal_projects/collision-detection/.venv/lib/python3.10/site-packages (from torch) (12.6.85)\n",
      "Requirement already satisfied: nvidia-cuda-runtime-cu12==12.6.77 in /home/atupulazi/personal_projects/collision-detection/.venv/lib/python3.10/site-packages (from torch) (12.6.77)\n",
      "Requirement already satisfied: nvidia-cuda-cupti-cu12==12.6.80 in /home/atupulazi/personal_projects/collision-detection/.venv/lib/python3.10/site-packages (from torch) (12.6.80)\n",
      "Requirement already satisfied: nvidia-cufft-cu12==11.3.0.4 in /home/atupulazi/personal_projects/collision-detection/.venv/lib/python3.10/site-packages (from torch) (11.3.0.4)\n",
      "Requirement already satisfied: triton==3.3.1 in /home/atupulazi/personal_projects/collision-detection/.venv/lib/python3.10/site-packages (from torch) (3.3.1)\n",
      "Requirement already satisfied: nvidia-curand-cu12==10.3.7.77 in /home/atupulazi/personal_projects/collision-detection/.venv/lib/python3.10/site-packages (from torch) (10.3.7.77)\n",
      "Requirement already satisfied: typing-extensions>=4.10.0 in /home/atupulazi/personal_projects/collision-detection/.venv/lib/python3.10/site-packages (from torch) (4.14.0)\n",
      "Requirement already satisfied: setuptools>=40.8.0 in /home/atupulazi/personal_projects/collision-detection/.venv/lib/python3.10/site-packages (from triton==3.3.1->torch) (59.6.0)\n",
      "Requirement already satisfied: numpy in /home/atupulazi/personal_projects/collision-detection/.venv/lib/python3.10/site-packages (from torchvision) (2.2.6)\n",
      "Requirement already satisfied: pillow!=8.3.*,>=5.3.0 in /home/atupulazi/personal_projects/collision-detection/.venv/lib/python3.10/site-packages (from torchvision) (11.2.1)\n",
      "Requirement already satisfied: mpmath<1.4,>=1.1.0 in /home/atupulazi/personal_projects/collision-detection/.venv/lib/python3.10/site-packages (from sympy>=1.13.3->torch) (1.3.0)\n",
      "Requirement already satisfied: MarkupSafe>=2.0 in /home/atupulazi/personal_projects/collision-detection/.venv/lib/python3.10/site-packages (from jinja2->torch) (3.0.2)\n",
      "Note: you may need to restart the kernel to use updated packages.\n"
     ]
    }
   ],
   "source": [
    "%pip install torch torchvision\n"
   ]
  },
  {
   "cell_type": "code",
   "execution_count": 102,
   "id": "db08eed7",
   "metadata": {},
   "outputs": [
    {
     "name": "stdout",
     "output_type": "stream",
     "text": [
      "Requirement already satisfied: torch-lr-finder in /home/atupulazi/personal_projects/collision-detection/.venv/lib/python3.10/site-packages (0.2.2)\n",
      "Requirement already satisfied: torch>=0.4.1 in /home/atupulazi/personal_projects/collision-detection/.venv/lib/python3.10/site-packages (from torch-lr-finder) (2.7.1)\n",
      "Requirement already satisfied: packaging in /home/atupulazi/personal_projects/collision-detection/.venv/lib/python3.10/site-packages (from torch-lr-finder) (24.2)\n",
      "Requirement already satisfied: matplotlib in /home/atupulazi/personal_projects/collision-detection/.venv/lib/python3.10/site-packages (from torch-lr-finder) (3.10.3)\n",
      "Requirement already satisfied: tqdm in /home/atupulazi/personal_projects/collision-detection/.venv/lib/python3.10/site-packages (from torch-lr-finder) (4.67.1)\n",
      "Requirement already satisfied: numpy in /home/atupulazi/personal_projects/collision-detection/.venv/lib/python3.10/site-packages (from torch-lr-finder) (2.2.6)\n",
      "Requirement already satisfied: nvidia-nvtx-cu12==12.6.77 in /home/atupulazi/personal_projects/collision-detection/.venv/lib/python3.10/site-packages (from torch>=0.4.1->torch-lr-finder) (12.6.77)\n",
      "Requirement already satisfied: nvidia-cuda-cupti-cu12==12.6.80 in /home/atupulazi/personal_projects/collision-detection/.venv/lib/python3.10/site-packages (from torch>=0.4.1->torch-lr-finder) (12.6.80)\n",
      "Requirement already satisfied: nvidia-cufft-cu12==11.3.0.4 in /home/atupulazi/personal_projects/collision-detection/.venv/lib/python3.10/site-packages (from torch>=0.4.1->torch-lr-finder) (11.3.0.4)\n",
      "Requirement already satisfied: typing-extensions>=4.10.0 in /home/atupulazi/personal_projects/collision-detection/.venv/lib/python3.10/site-packages (from torch>=0.4.1->torch-lr-finder) (4.14.0)\n",
      "Requirement already satisfied: nvidia-cuda-runtime-cu12==12.6.77 in /home/atupulazi/personal_projects/collision-detection/.venv/lib/python3.10/site-packages (from torch>=0.4.1->torch-lr-finder) (12.6.77)\n",
      "Requirement already satisfied: nvidia-cufile-cu12==1.11.1.6 in /home/atupulazi/personal_projects/collision-detection/.venv/lib/python3.10/site-packages (from torch>=0.4.1->torch-lr-finder) (1.11.1.6)\n",
      "Requirement already satisfied: nvidia-cublas-cu12==12.6.4.1 in /home/atupulazi/personal_projects/collision-detection/.venv/lib/python3.10/site-packages (from torch>=0.4.1->torch-lr-finder) (12.6.4.1)\n",
      "Requirement already satisfied: fsspec in /home/atupulazi/personal_projects/collision-detection/.venv/lib/python3.10/site-packages (from torch>=0.4.1->torch-lr-finder) (2025.5.1)\n",
      "Requirement already satisfied: nvidia-cudnn-cu12==9.5.1.17 in /home/atupulazi/personal_projects/collision-detection/.venv/lib/python3.10/site-packages (from torch>=0.4.1->torch-lr-finder) (9.5.1.17)\n",
      "Requirement already satisfied: nvidia-cusolver-cu12==11.7.1.2 in /home/atupulazi/personal_projects/collision-detection/.venv/lib/python3.10/site-packages (from torch>=0.4.1->torch-lr-finder) (11.7.1.2)\n",
      "Requirement already satisfied: nvidia-nccl-cu12==2.26.2 in /home/atupulazi/personal_projects/collision-detection/.venv/lib/python3.10/site-packages (from torch>=0.4.1->torch-lr-finder) (2.26.2)\n",
      "Requirement already satisfied: nvidia-cuda-nvrtc-cu12==12.6.77 in /home/atupulazi/personal_projects/collision-detection/.venv/lib/python3.10/site-packages (from torch>=0.4.1->torch-lr-finder) (12.6.77)\n",
      "Requirement already satisfied: sympy>=1.13.3 in /home/atupulazi/personal_projects/collision-detection/.venv/lib/python3.10/site-packages (from torch>=0.4.1->torch-lr-finder) (1.14.0)\n",
      "Requirement already satisfied: nvidia-nvjitlink-cu12==12.6.85 in /home/atupulazi/personal_projects/collision-detection/.venv/lib/python3.10/site-packages (from torch>=0.4.1->torch-lr-finder) (12.6.85)\n",
      "Requirement already satisfied: triton==3.3.1 in /home/atupulazi/personal_projects/collision-detection/.venv/lib/python3.10/site-packages (from torch>=0.4.1->torch-lr-finder) (3.3.1)\n",
      "Requirement already satisfied: nvidia-cusparse-cu12==12.5.4.2 in /home/atupulazi/personal_projects/collision-detection/.venv/lib/python3.10/site-packages (from torch>=0.4.1->torch-lr-finder) (12.5.4.2)\n",
      "Requirement already satisfied: nvidia-cusparselt-cu12==0.6.3 in /home/atupulazi/personal_projects/collision-detection/.venv/lib/python3.10/site-packages (from torch>=0.4.1->torch-lr-finder) (0.6.3)\n",
      "Requirement already satisfied: networkx in /home/atupulazi/personal_projects/collision-detection/.venv/lib/python3.10/site-packages (from torch>=0.4.1->torch-lr-finder) (3.4.2)\n",
      "Requirement already satisfied: nvidia-curand-cu12==10.3.7.77 in /home/atupulazi/personal_projects/collision-detection/.venv/lib/python3.10/site-packages (from torch>=0.4.1->torch-lr-finder) (10.3.7.77)\n",
      "Requirement already satisfied: filelock in /home/atupulazi/personal_projects/collision-detection/.venv/lib/python3.10/site-packages (from torch>=0.4.1->torch-lr-finder) (3.18.0)\n",
      "Requirement already satisfied: jinja2 in /home/atupulazi/personal_projects/collision-detection/.venv/lib/python3.10/site-packages (from torch>=0.4.1->torch-lr-finder) (3.1.6)\n",
      "Requirement already satisfied: setuptools>=40.8.0 in /home/atupulazi/personal_projects/collision-detection/.venv/lib/python3.10/site-packages (from triton==3.3.1->torch>=0.4.1->torch-lr-finder) (59.6.0)\n",
      "Requirement already satisfied: cycler>=0.10 in /home/atupulazi/personal_projects/collision-detection/.venv/lib/python3.10/site-packages (from matplotlib->torch-lr-finder) (0.12.1)\n",
      "Requirement already satisfied: pillow>=8 in /home/atupulazi/personal_projects/collision-detection/.venv/lib/python3.10/site-packages (from matplotlib->torch-lr-finder) (11.2.1)\n",
      "Requirement already satisfied: python-dateutil>=2.7 in /home/atupulazi/personal_projects/collision-detection/.venv/lib/python3.10/site-packages (from matplotlib->torch-lr-finder) (2.9.0.post0)\n",
      "Requirement already satisfied: kiwisolver>=1.3.1 in /home/atupulazi/personal_projects/collision-detection/.venv/lib/python3.10/site-packages (from matplotlib->torch-lr-finder) (1.4.8)\n",
      "Requirement already satisfied: contourpy>=1.0.1 in /home/atupulazi/personal_projects/collision-detection/.venv/lib/python3.10/site-packages (from matplotlib->torch-lr-finder) (1.3.2)\n",
      "Requirement already satisfied: fonttools>=4.22.0 in /home/atupulazi/personal_projects/collision-detection/.venv/lib/python3.10/site-packages (from matplotlib->torch-lr-finder) (4.58.4)\n",
      "Requirement already satisfied: pyparsing>=2.3.1 in /home/atupulazi/personal_projects/collision-detection/.venv/lib/python3.10/site-packages (from matplotlib->torch-lr-finder) (3.2.3)\n",
      "Requirement already satisfied: six>=1.5 in /home/atupulazi/personal_projects/collision-detection/.venv/lib/python3.10/site-packages (from python-dateutil>=2.7->matplotlib->torch-lr-finder) (1.17.0)\n",
      "Requirement already satisfied: mpmath<1.4,>=1.1.0 in /home/atupulazi/personal_projects/collision-detection/.venv/lib/python3.10/site-packages (from sympy>=1.13.3->torch>=0.4.1->torch-lr-finder) (1.3.0)\n",
      "Requirement already satisfied: MarkupSafe>=2.0 in /home/atupulazi/personal_projects/collision-detection/.venv/lib/python3.10/site-packages (from jinja2->torch>=0.4.1->torch-lr-finder) (3.0.2)\n",
      "Note: you may need to restart the kernel to use updated packages.\n"
     ]
    }
   ],
   "source": [
    "%pip install torch-lr-finder\n"
   ]
  },
  {
   "cell_type": "code",
   "execution_count": 103,
   "id": "4969c8ec",
   "metadata": {},
   "outputs": [
    {
     "name": "stdout",
     "output_type": "stream",
     "text": [
      "Requirement already satisfied: scikit-learn in /home/atupulazi/personal_projects/collision-detection/.venv/lib/python3.10/site-packages (1.7.0)\n",
      "Requirement already satisfied: joblib>=1.2.0 in /home/atupulazi/personal_projects/collision-detection/.venv/lib/python3.10/site-packages (from scikit-learn) (1.5.1)\n",
      "Requirement already satisfied: scipy>=1.8.0 in /home/atupulazi/personal_projects/collision-detection/.venv/lib/python3.10/site-packages (from scikit-learn) (1.15.3)\n",
      "Requirement already satisfied: numpy>=1.22.0 in /home/atupulazi/personal_projects/collision-detection/.venv/lib/python3.10/site-packages (from scikit-learn) (2.2.6)\n",
      "Requirement already satisfied: threadpoolctl>=3.1.0 in /home/atupulazi/personal_projects/collision-detection/.venv/lib/python3.10/site-packages (from scikit-learn) (3.6.0)\n",
      "Note: you may need to restart the kernel to use updated packages.\n"
     ]
    }
   ],
   "source": [
    "%pip install scikit-learn"
   ]
  },
  {
   "cell_type": "code",
   "execution_count": 104,
   "id": "e894fef5",
   "metadata": {},
   "outputs": [],
   "source": [
    "import torch #for using tensors and any computations\n",
    "import torch.nn as nn # used to build neural networks (layers, loss functions)\n",
    "import torch.optim as optim #optim algos\n",
    "from torch.utils.data import DataLoader#loads data in batches and shuffles them\n",
    "from dataset import ClipDataset #custom dataset class for loading in the ds to the model\n",
    "from model import build_model_r3d_18 #function that defines the model\n",
    "from model import build_model_mc3\n",
    "from torch_lr_finder import LRFinder #finds a good lr to use for model updates\n",
    "import matplotlib.pyplot as plt\n",
    "from datetime import datetime\n",
    "import numpy as np\n",
    "import random\n",
    "from sklearn.metrics import classification_report, confusion_matrix, ConfusionMatrixDisplay\n",
    "from sklearn.metrics import precision_recall_fscore_support, accuracy_score\n",
    "import pandas as pd\n",
    "import os"
   ]
  },
  {
   "cell_type": "code",
   "execution_count": null,
   "id": "c976cb5d",
   "metadata": {},
   "outputs": [],
   "source": [
    "# Set Device -> Load data -> Build Model -> pick loss/optimizer -> Train Loop -> Evaluate -> Save\n",
    "\n",
    "#re-write this"
   ]
  },
  {
   "cell_type": "code",
   "execution_count": 106,
   "id": "1cfeb548",
   "metadata": {},
   "outputs": [],
   "source": [
    "#Setting the device\n",
    "\n",
    "device = torch.device(\"cuda\" if torch.cuda.is_available() else \"cpu\")"
   ]
  },
  {
   "cell_type": "code",
   "execution_count": 107,
   "id": "bd991086",
   "metadata": {},
   "outputs": [],
   "source": [
    "# Example Training Loop Explanation\n",
    "# outputs = model(clips)               # model makes guesses\n",
    "# loss = criterion(outputs, labels)    # \"someone\" tells how wrong the guesses were\n",
    "# loss.backward()                      # model feels the pain and learns\n",
    "# optimizer.step()                     # weights are updated based on the feedback\n",
    "\n",
    "# The loss function is like your teacher saying:\n",
    "#    \"You got 5 out of 8 wrong — here's how wrong you were and how much to adjust.\""
   ]
  },
  {
   "cell_type": "code",
   "execution_count": null,
   "id": "94ed7e42",
   "metadata": {},
   "outputs": [
    {
     "name": "stdout",
     "output_type": "stream",
     "text": [
      "No Checkpoint found. Starting Training from scratch\n"
     ]
    }
   ],
   "source": [
    "#Load previous model if it exists\n",
    "\n",
    "force_retrain = False\n",
    "model_name = \"r3d_18\"\n",
    "\n",
    "checkpoint_dir = \"checkpoints\"\n",
    "os.makedirs(checkpoint_dir, exist_ok=True)\n",
    "\n",
    "model_path = os.path.join(checkpoint_dir, f\"{model_name}_best.pth\")\n",
    "\n",
    "model = build_model_r3d_18()\n",
    "model = model.to(device)\n",
    "optimizer = optim.Adam(model.parameters(), lr=0.01)\n",
    "\n",
    "start_epoch = 0\n",
    "best_val_acc = 0.0\n",
    "if os.path.exists(model_path) and not force_retrain:\n",
    "    checkpoint = torch.load(model_path)\n",
    "    model.load_state_dict(checkpoint['model_state_dict']) # the weights of the model\n",
    "    optimizer.load_state_dict(checkpoint['optimizer_state_dict']) #for when you want to restore memory from the saved optimizer (ie, LR Scheduling and gradient history)\n",
    "    best_val_acc = checkpoint['val_acc'] #this is the saved accuracy\n",
    "    start_epoch = checkpoint['epoch'] #resumes from the last epoch saved\n",
    "    print(f\"Loaded the previous checkpoint at epoch {start_epoch} with accuracy {best_val_acc: .2f}\")\n",
    "else:\n",
    "    print(\"No Checkpoint found. Starting Training from scratch\")\n"
   ]
  },
  {
   "cell_type": "code",
   "execution_count": 109,
   "id": "07e2b79d",
   "metadata": {},
   "outputs": [],
   "source": [
    "# Define and Load Dataset\n",
    "\n",
    "seed = 42\n",
    "\n",
    "torch.manual_seed(seed)\n",
    "random.seed(seed)\n",
    "np.random.seed(seed)\n",
    "\n",
    "g = torch.Generator()\n",
    "g.manual_seed(seed)\n",
    "\n",
    "\n",
    "train_dataset = ClipDataset(csv_path=\"/home/atupulazi/personal_projects/collision-detection/frames/train/train_clip_labels.csv\", split='train')\n",
    "val_dataset = ClipDataset(csv_path=\"/home/atupulazi/personal_projects/collision-detection/frames/val/val_clip_labels.csv\", split='val')\n",
    "\n",
    "# batch_size is how many samples are passed into the model before the weights are updated\n",
    "    # You look at 8 clips at once, guess all of them, then someone (training loss) tells you how many you got right. \n",
    "    # You adjust your understanding based on all 8 at once\n",
    "train_loader = DataLoader(train_dataset, batch_size=8, shuffle=True, generator=g)\n",
    "val_loader = DataLoader(val_dataset, batch_size=8, shuffle=False)"
   ]
  },
  {
   "cell_type": "code",
   "execution_count": 110,
   "id": "19efd675",
   "metadata": {},
   "outputs": [],
   "source": [
    "# Build Model\n",
    "\n",
    "#model = build_model_mc3()\n",
    "model = model.to(device) # builds the model on the GPU if available or CPU if not\n",
    "#model_name = \"mc3_18\"\n",
    "\n",
    "\n"
   ]
  },
  {
   "cell_type": "code",
   "execution_count": 111,
   "id": "713338bc",
   "metadata": {},
   "outputs": [],
   "source": [
    "# Pick Loss and Optimizer\n",
    "\n",
    "criterion = nn.CrossEntropyLoss()\n",
    "# model.parameters() are numbers the model can change to improve its performance. Pytorch does this automatically\n"
   ]
  },
  {
   "cell_type": "code",
   "execution_count": 112,
   "id": "3ad06691",
   "metadata": {},
   "outputs": [],
   "source": [
    "# lr_finder = LRFinder(model, optimizer, criterion, device=\"cuda\")\n",
    "# lr_finder.range_test(train_loader, end_lr=1, num_iter=100)  # Try LRs from 1e-7 to 1\n",
    "\n",
    "# # Plot the result\n",
    "# lr_finder.plot()  # This shows you the graph\n",
    "# lr_finder.reset() # Reset model & optimizer to initial state"
   ]
  },
  {
   "cell_type": "code",
   "execution_count": 113,
   "id": "797c0533",
   "metadata": {},
   "outputs": [
    {
     "name": "stdout",
     "output_type": "stream",
     "text": [
      "[Epoch: 1] Train Loss: 1.0403\n",
      "Epoch: 1 Validation Accuracy:  57.00%\n",
      "New best model saved with accuracy 57.00%\n",
      "[Epoch: 2] Train Loss: 0.9245\n",
      "Epoch: 2 Validation Accuracy:  67.00%\n",
      "New best model saved with accuracy 67.00%\n",
      "[Epoch: 3] Train Loss: 0.6680\n",
      "Epoch: 3 Validation Accuracy:  78.00%\n",
      "New best model saved with accuracy 78.00%\n",
      "[Epoch: 4] Train Loss: 0.6241\n",
      "Epoch: 4 Validation Accuracy:  69.00%\n",
      "[Epoch: 5] Train Loss: 0.5359\n",
      "Epoch: 5 Validation Accuracy:  77.00%\n",
      "[Epoch: 6] Train Loss: 1.0050\n",
      "Epoch: 6 Validation Accuracy:  80.00%\n",
      "New best model saved with accuracy 80.00%\n",
      "[Epoch: 7] Train Loss: 0.4986\n",
      "Epoch: 7 Validation Accuracy:  67.00%\n",
      "[Epoch: 8] Train Loss: 0.7131\n",
      "Epoch: 8 Validation Accuracy:  76.00%\n",
      "[Epoch: 9] Train Loss: 0.5468\n",
      "Epoch: 9 Validation Accuracy:  74.00%\n",
      "[Epoch: 10] Train Loss: 0.4787\n",
      "Epoch: 10 Validation Accuracy:  79.00%\n"
     ]
    }
   ],
   "source": [
    "# Training Loop (Evaluate)\n",
    "\n",
    "num_of_epochs = 10 # More epochs = more chances to learn from the same data.\\\n",
    "train_losses = []\n",
    "val_accuracy = []\n",
    "\n",
    "\n",
    "\n",
    "for epoch in range(start_epoch, num_of_epochs):\n",
    "    #save all the preds/labels for each batch\n",
    "    all_preds = []\n",
    "    all_labels = []\n",
    "    # why? do u need this? exp what exactly it does\n",
    "    model.train() #  puts layers like dropout/batchnorm in training mode.\n",
    "    running_loss = 0.0 # Tracks cumulative loss for this epoch.\n",
    "\n",
    "    for clips, labels in train_loader:\n",
    "        clips, labels = clips.to(device), labels.to(device)\n",
    "\n",
    "        optimizer.zero_grad() # reset previous gradients? why?\n",
    "        outputs = model(clips) # Forward pass? meaning?\n",
    "        loss = criterion(outputs, labels) # Compute Loss\n",
    "        loss.backward() # backward pass (compute gradients). is this backprop? \n",
    "        optimizer.step() # update weights. how does this update weights? i thought weights updates going forward not backward\n",
    "\n",
    "        running_loss = running_loss + loss.item() #accumulate loss. what is item? why do we want to accumulate loss?\n",
    "\n",
    "    avg_loss = running_loss / len(train_loader) # Why are we dividing by the len of train_loader and not by the num of epochs\n",
    "    train_losses.append(avg_loss)\n",
    "    print(f\"[Epoch: {epoch+1}] Train Loss: {avg_loss:.4f}\") #why are we doing +1?\n",
    "\n",
    "    # Validation Loop\n",
    "    \n",
    "    model.eval() # turns off dropout, batchnorm updates. what are those and why do we turn them off?\n",
    "    correct_predictions = 0\n",
    "    total_seen = 0\n",
    "\n",
    "    with torch.no_grad():\n",
    "        for clips, labels in val_loader:\n",
    "            clips, labels = clips.to(device), labels.to(device)\n",
    "            outputs = model(clips) #forward only, is there another way for backward? like why do we have to specify this\n",
    "            _, predicted = torch.max(outputs.data, 1) # only get predicted class. what is torch.max? outputs.data? 1?\n",
    "            total_seen += labels.size(0) #huh??\n",
    "            correct_predictions += (predicted == labels).sum().item() # i understand that this is checking if the predicted label \n",
    "                                                                   # is the sames as the actual labels but why use .sum and .item\n",
    "\n",
    "            #collect predictions and labels from every batch (8) not just the last one\n",
    "            all_preds.append(predicted.cpu())\n",
    "            all_labels.append(labels.cpu())\n",
    "        accuracy = 100 * correct_predictions / total_seen # get the accuracy result out of a 100?\n",
    "        print(f\"Epoch: {epoch+1} Validation Accuracy: {accuracy: .2f}%\")\n",
    "        val_accuracy.append(accuracy)\n",
    "\n",
    "\n",
    "        #check if this is the best accuracy\n",
    "        if accuracy > best_val_acc:\n",
    "            best_val_acc = accuracy\n",
    "            torch.save({\n",
    "                'epoch': epoch + 1,\n",
    "                'model_state_dict': model.state_dict(),\n",
    "                'optimizer_state_dict': optimizer.state_dict(),\n",
    "                'val_acc': best_val_acc,\n",
    "                'avg_loss': avg_loss\n",
    "            }, model_path)\n",
    "            print(f\"New best model saved with accuracy {best_val_acc:.2f}%\")\n",
    "        \n",
    "    \n",
    "\n",
    "\n",
    "    "
   ]
  },
  {
   "cell_type": "code",
   "execution_count": 114,
   "id": "9e8a1b4e",
   "metadata": {},
   "outputs": [
    {
     "name": "stdout",
     "output_type": "stream",
     "text": [
      "              precision    recall  f1-score   support\n",
      "\n",
      "    no_crash       0.88      0.75      0.81        59\n",
      "       crash       0.70      0.85      0.77        41\n",
      "\n",
      "    accuracy                           0.79       100\n",
      "   macro avg       0.79      0.80      0.79       100\n",
      "weighted avg       0.81      0.79      0.79       100\n",
      "\n"
     ]
    }
   ],
   "source": [
    "# merge all the pred/labels from every batch bc classification expects one flat array\n",
    "all_preds = torch.cat(all_preds)\n",
    "all_labels = torch.cat(all_labels)\n",
    "\n",
    "print(classification_report(\n",
    "    all_preds.cpu().numpy(),\n",
    "    all_labels.cpu().numpy(),\n",
    "    target_names=['no_crash', 'crash']\n",
    "))\n",
    "# scikit-learn only accepts NumPy arrays on the CPU.\n"
   ]
  },
  {
   "cell_type": "code",
   "execution_count": 115,
   "id": "56bf829a",
   "metadata": {},
   "outputs": [
    {
     "data": {
      "image/png": "[encoded data removed]",
      "text/plain": [
       "<Figure size 640x480 with 2 Axes>"
      ]
     },
     "metadata": {},
     "output_type": "display_data"
    }
   ],
   "source": [
    "y_true = all_labels.cpu().numpy()\n",
    "y_pred = all_labels.cpu().numpy()\n",
    "\n",
    "cm = confusion_matrix(y_true, y_pred)\n",
    "disp = ConfusionMatrixDisplay(confusion_matrix=cm, display_labels=[\"no_crash\", \"crash\"])\n",
    "\n",
    "disp.plot(cmap=\"Blues\", values_format=\"d\")\n",
    "plt.title(f\"Confusion Matrix - Epoch {epoch+1}\")\n",
    "plt.tight_layout()\n",
    "plt.show()\n",
    "\n",
    "#--To giver percentages b/w 0 and 1\n",
    "# y_true = all_labels.cpu().numpy()\n",
    "# y_pred = all_labels.cpu().numpy()\n",
    "\n",
    "# cm = confusion_matrix(y_true, y_pred, normalize='true')\n",
    "# disp = ConfusionMatrixDisplay(confusion_matrix=cm, display_labels=[\"no_crash\", \"crash\"])\n",
    "\n",
    "# disp.plot(cmap=\"Blues\")\n",
    "# plt.title(f\"Confusion Matrix - Epoch {epoch+1}\")\n",
    "# plt.tight_layout()\n",
    "# plt.show()"
   ]
  },
  {
   "cell_type": "code",
   "execution_count": 116,
   "id": "afaea0ad",
   "metadata": {},
   "outputs": [
    {
     "name": "stdout",
     "output_type": "stream",
     "text": [
      "Confusion matrix saved to confusion_matrix/confusion_matrix_epoch_10_r3d_18_20250624_214136.png\n",
      "Confusion matrix values saved to confusion_matrix/confusion_matrix_r3d_18_20250624_214136.csv\n"
     ]
    }
   ],
   "source": [
    "# Save plot with timestamp and model name\n",
    "import os\n",
    "from datetime import datetime\n",
    "\n",
    "timestamp = datetime.now().strftime(\"%Y%m%d_%H%M%S\")\n",
    "os.makedirs(\"confusion_matrix\", exist_ok=True)\n",
    "\n",
    "matrix_path = f\"confusion_matrix/confusion_matrix_epoch_{epoch+1}_{model_name}_{timestamp}.png\"\n",
    "plt.savefig(matrix_path)\n",
    "plt.close()\n",
    "print(f\"Confusion matrix saved to {matrix_path}\")\n",
    "\n",
    "#LOG TO CSV\n",
    "csv_path = f\"confusion_matrix/confusion_matrix_{model_name}_{timestamp}.csv\"\n",
    "cm_df = pd.DataFrame(cm, index=['actual_no_crash', 'actual_crash'],\n",
    "                        columns=['pred_no_crash', 'pred_crash'])\n",
    "cm_df.to_csv(csv_path)\n",
    "\n",
    "print(f\"Confusion matrix values saved to {csv_path}\")\n"
   ]
  },
  {
   "cell_type": "code",
   "execution_count": 117,
   "id": "91bb39f9",
   "metadata": {},
   "outputs": [
    {
     "data": {
      "image/png": "[encoded data removed]",
      "text/plain": [
       "<Figure size 800x500 with 1 Axes>"
      ]
     },
     "metadata": {},
     "output_type": "display_data"
    }
   ],
   "source": [
    "# ========== Plotting ==========\n",
    "\n",
    "timestamp = datetime.now().strftime(\"%Y%m%d_%H%M%S\")\n",
    "os.makedirs(\"plots\", exist_ok=True)\n",
    "\n",
    "# Save plot by model name + timestamp (optional for versioning)\n",
    "plot_filename = f\"plots/{model_name}_loss_plot_{timestamp}.png\"\n",
    "\n",
    "plt.figure(figsize=(8, 5))\n",
    "plt.plot(range(1, len(train_losses) + 1), train_losses, marker='o')\n",
    "plt.title(f\"{model_name.upper()} Training Loss Over Epochs\")\n",
    "plt.xlabel(\"Epoch\")\n",
    "plt.ylabel(\"Loss\")\n",
    "plt.grid(True)\n",
    "plt.tight_layout()\n",
    "plt.show()\n",
    "\n",
    "# Save plot\n",
    "plt.savefig(plot_filename)\n",
    "plt.close()\n"
   ]
  },
  {
   "cell_type": "code",
   "execution_count": 118,
   "id": "46cb1464",
   "metadata": {},
   "outputs": [],
   "source": [
    "# #Save the current model\n",
    "\n",
    "# os.makedirs(\"checkpoints\", exist_ok=True)\n",
    "# torch.save(model.state_dict(), f\"checkpoints/{model_name}_final.pth\")"
   ]
  },
  {
   "cell_type": "code",
   "execution_count": 119,
   "id": "26cbfecf",
   "metadata": {},
   "outputs": [],
   "source": [
    "# # Ensure folder exists\n",
    "# os.makedirs(\"metrics_log\", exist_ok=True)\n",
    "\n",
    "# # Build clean filename\n",
    "# filename = f\"metrics_log/{model_name}_{timestamp}.csv\"\n",
    "\n",
    "# # Check if file exists so you only write header once\n",
    "# write_header = not os.path.exists(filename)\n",
    "\n",
    "# # with open(filename, \"a\") as f:\n",
    "# #     if write_header:\n",
    "# #         f.write(\"Epoch,Average Loss,Accuracy\\n\")\n",
    "# #     f.write(f\"{epoch+1},{avg_loss:.4f},{accuracy:.2f}\\n\")\n",
    "\n",
    "\n",
    "# # precision, recall, f1, _ = precision_recall_fscore_support(\n",
    "# #     all_labels.numpy(), all_preds.numpy(), average='weighted'\n",
    "# # )\n",
    "# # acc = accuracy_score(all_labels.numpy(), all_preds.numpy())\n",
    "\n",
    "# # with open(filename, \"a\") as f:\n",
    "# #     f.write(\"\\nVal Results:\\n\")\n",
    "# #     f.write(\"Test Accuracy,Precision,Recall,F1,Timestamp\\n\")\n",
    "# #     f.write(f\"{acc:.4f},{precision:.4f},{recall:.4f},{f1:.4f},{timestamp}\\n\")\n",
    "\n",
    "# # print(f\"Combined metrics (train + Val) saved to {filename}\")\n",
    "\n",
    "# # Compute test metrics\n",
    "# precision, recall, f1, _ = precision_recall_fscore_support(\n",
    "#     all_labels.numpy(), all_preds.numpy(), average='weighted'\n",
    "# )\n",
    "# acc = accuracy_score(all_labels.numpy(), all_preds.numpy())\n",
    "\n",
    "# # Write all in one line\n",
    "# with open(filename, \"w\") as f:\n",
    "#     f.write(\"Epoch,Average Loss,Validation Accuracy,Test Accuracy,Precision,Recall,F1,Timestamp\\n\")\n",
    "#     f.write(f\"{epoch},{avg_loss:.4f},{val_accuracy:.2f},{acc:.2f},{precision:.4f},{recall:.4f},{f1:.4f},{timestamp}\\n\")\n",
    "\n",
    "# print(f\"All metrics logged to: {filename}\")"
   ]
  },
  {
   "cell_type": "code",
   "execution_count": 120,
   "id": "3ba26892",
   "metadata": {},
   "outputs": [],
   "source": [
    "#Early Stopping if accuracy doesnt improve\n",
    "# best_accuracy = 0\n",
    "# if accuracy > best_accuracy:\n",
    "#     best_accuracy = accuracy\n",
    "#     torch.save(model.state_dict(), \"checkpoints/best_model.pth\")\n",
    "#     patience_counter = 0\n",
    "# else:\n",
    "#     patience_counter += 1\n",
    "#     if patience_counter >= patience_limit:\n",
    "#         print(\"Early stopping triggered\")\n",
    "#         break\n"
   ]
  }
 ],
 "metadata": {
  "kernelspec": {
   "display_name": ".venv",
   "language": "python",
   "name": "python3"
  },
  "language_info": {
   "codemirror_mode": {
    "name": "ipython",
    "version": 3
   },
   "file_extension": ".py",
   "mimetype": "text/x-python",
   "name": "python",
   "nbconvert_exporter": "python",
   "pygments_lexer": "ipython3",
   "version": "3.10.12"
  }
 },
 "nbformat": 4,
 "nbformat_minor": 5
}
