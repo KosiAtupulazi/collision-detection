{
 "cells": [
  {
   "cell_type": "code",
   "execution_count": 51,
   "id": "f519b524",
   "metadata": {},
   "outputs": [
    {
     "name": "stdout",
     "output_type": "stream",
     "text": [
      "Requirement already satisfied: torchsummary in /home/atupulazi/personal_projects/collision-detection/.venv/lib/python3.10/site-packages (1.5.1)\n",
      "Note: you may need to restart the kernel to use updated packages.\n"
     ]
    }
   ],
   "source": [
    "%pip install torchsummary"
   ]
  },
  {
   "cell_type": "code",
   "execution_count": 52,
   "id": "596ef862",
   "metadata": {},
   "outputs": [
    {
     "name": "stdout",
     "output_type": "stream",
     "text": [
      "Requirement already satisfied: scikit-learn in /home/atupulazi/personal_projects/collision-detection/.venv/lib/python3.10/site-packages (1.7.0)\n",
      "Requirement already satisfied: scipy>=1.8.0 in /home/atupulazi/personal_projects/collision-detection/.venv/lib/python3.10/site-packages (from scikit-learn) (1.15.3)\n",
      "Requirement already satisfied: threadpoolctl>=3.1.0 in /home/atupulazi/personal_projects/collision-detection/.venv/lib/python3.10/site-packages (from scikit-learn) (3.6.0)\n",
      "Requirement already satisfied: numpy>=1.22.0 in /home/atupulazi/personal_projects/collision-detection/.venv/lib/python3.10/site-packages (from scikit-learn) (2.2.6)\n",
      "Requirement already satisfied: joblib>=1.2.0 in /home/atupulazi/personal_projects/collision-detection/.venv/lib/python3.10/site-packages (from scikit-learn) (1.5.1)\n",
      "Note: you may need to restart the kernel to use updated packages.\n"
     ]
    }
   ],
   "source": [
    "%pip install scikit-learn"
   ]
  },
  {
   "cell_type": "code",
   "execution_count": 53,
   "id": "d864161d",
   "metadata": {},
   "outputs": [],
   "source": [
    "# loads model + val/test set, evaluates accuracy\n",
    "\n",
    "import torch\n",
    "from model import build_model_r3d_18  # replace with actual class name\n",
    "from dataset import ClipDataset\n",
    "from torch.utils.data import DataLoader\n",
    "import pandas as pd\n",
    "from sklearn.metrics import classification_report, confusion_matrix, ConfusionMatrixDisplay\n",
    "import matplotlib.pyplot as plt\n",
    "from torchsummary import summary\n",
    "import csv\n",
    "from sklearn.metrics import classification_report, precision_score, recall_score, f1_score, accuracy_score\n",
    "from datetime import datetime\n",
    "import os\n",
    "\n",
    "\n",
    "\n"
   ]
  },
  {
   "cell_type": "code",
   "execution_count": 54,
   "id": "5de4f183",
   "metadata": {},
   "outputs": [],
   "source": [
    "# ========== SETUP ==========\n",
    "device = torch.device(\"cuda\" if torch.cuda.is_available() else \"cpu\")\n",
    "\n",
    "# Load test dataset\n",
    "test_csv_path = \"/home/atupulazi/personal_projects/collision-detection/frames/test/test_clip_labels.csv\"  # <-- update if different\n",
    "test_dataset = ClipDataset(test_csv_path, split='test')\n",
    "test_loader = DataLoader(test_dataset, batch_size=8, shuffle=False)\n"
   ]
  },
  {
   "cell_type": "code",
   "execution_count": 55,
   "id": "10fa076f",
   "metadata": {},
   "outputs": [
    {
     "name": "stdout",
     "output_type": "stream",
     "text": [
      "----------------------------------------------------------------\n",
      "        Layer (type)               Output Shape         Param #\n",
      "================================================================\n",
      "            Conv3d-1       [-1, 64, 16, 56, 56]          28,224\n",
      "       BatchNorm3d-2       [-1, 64, 16, 56, 56]             128\n",
      "              ReLU-3       [-1, 64, 16, 56, 56]               0\n",
      "      Conv3DSimple-4       [-1, 64, 16, 56, 56]         110,592\n",
      "       BatchNorm3d-5       [-1, 64, 16, 56, 56]             128\n",
      "              ReLU-6       [-1, 64, 16, 56, 56]               0\n",
      "      Conv3DSimple-7       [-1, 64, 16, 56, 56]         110,592\n",
      "       BatchNorm3d-8       [-1, 64, 16, 56, 56]             128\n",
      "              ReLU-9       [-1, 64, 16, 56, 56]               0\n",
      "       BasicBlock-10       [-1, 64, 16, 56, 56]               0\n",
      "     Conv3DSimple-11       [-1, 64, 16, 56, 56]         110,592\n",
      "      BatchNorm3d-12       [-1, 64, 16, 56, 56]             128\n",
      "             ReLU-13       [-1, 64, 16, 56, 56]               0\n",
      "     Conv3DSimple-14       [-1, 64, 16, 56, 56]         110,592\n",
      "      BatchNorm3d-15       [-1, 64, 16, 56, 56]             128\n",
      "             ReLU-16       [-1, 64, 16, 56, 56]               0\n",
      "       BasicBlock-17       [-1, 64, 16, 56, 56]               0\n",
      "     Conv3DSimple-18       [-1, 128, 8, 28, 28]         221,184\n",
      "      BatchNorm3d-19       [-1, 128, 8, 28, 28]             256\n",
      "             ReLU-20       [-1, 128, 8, 28, 28]               0\n",
      "     Conv3DSimple-21       [-1, 128, 8, 28, 28]         442,368\n",
      "      BatchNorm3d-22       [-1, 128, 8, 28, 28]             256\n",
      "           Conv3d-23       [-1, 128, 8, 28, 28]           8,192\n",
      "      BatchNorm3d-24       [-1, 128, 8, 28, 28]             256\n",
      "             ReLU-25       [-1, 128, 8, 28, 28]               0\n",
      "       BasicBlock-26       [-1, 128, 8, 28, 28]               0\n",
      "     Conv3DSimple-27       [-1, 128, 8, 28, 28]         442,368\n",
      "      BatchNorm3d-28       [-1, 128, 8, 28, 28]             256\n",
      "             ReLU-29       [-1, 128, 8, 28, 28]               0\n",
      "     Conv3DSimple-30       [-1, 128, 8, 28, 28]         442,368\n",
      "      BatchNorm3d-31       [-1, 128, 8, 28, 28]             256\n",
      "             ReLU-32       [-1, 128, 8, 28, 28]               0\n",
      "       BasicBlock-33       [-1, 128, 8, 28, 28]               0\n",
      "     Conv3DSimple-34       [-1, 256, 4, 14, 14]         884,736\n",
      "      BatchNorm3d-35       [-1, 256, 4, 14, 14]             512\n",
      "             ReLU-36       [-1, 256, 4, 14, 14]               0\n",
      "     Conv3DSimple-37       [-1, 256, 4, 14, 14]       1,769,472\n",
      "      BatchNorm3d-38       [-1, 256, 4, 14, 14]             512\n",
      "           Conv3d-39       [-1, 256, 4, 14, 14]          32,768\n",
      "      BatchNorm3d-40       [-1, 256, 4, 14, 14]             512\n",
      "             ReLU-41       [-1, 256, 4, 14, 14]               0\n",
      "       BasicBlock-42       [-1, 256, 4, 14, 14]               0\n",
      "     Conv3DSimple-43       [-1, 256, 4, 14, 14]       1,769,472\n",
      "      BatchNorm3d-44       [-1, 256, 4, 14, 14]             512\n",
      "             ReLU-45       [-1, 256, 4, 14, 14]               0\n",
      "     Conv3DSimple-46       [-1, 256, 4, 14, 14]       1,769,472\n",
      "      BatchNorm3d-47       [-1, 256, 4, 14, 14]             512\n",
      "             ReLU-48       [-1, 256, 4, 14, 14]               0\n",
      "       BasicBlock-49       [-1, 256, 4, 14, 14]               0\n",
      "     Conv3DSimple-50         [-1, 512, 2, 7, 7]       3,538,944\n",
      "      BatchNorm3d-51         [-1, 512, 2, 7, 7]           1,024\n",
      "             ReLU-52         [-1, 512, 2, 7, 7]               0\n",
      "     Conv3DSimple-53         [-1, 512, 2, 7, 7]       7,077,888\n",
      "      BatchNorm3d-54         [-1, 512, 2, 7, 7]           1,024\n",
      "           Conv3d-55         [-1, 512, 2, 7, 7]         131,072\n",
      "      BatchNorm3d-56         [-1, 512, 2, 7, 7]           1,024\n",
      "             ReLU-57         [-1, 512, 2, 7, 7]               0\n",
      "       BasicBlock-58         [-1, 512, 2, 7, 7]               0\n",
      "     Conv3DSimple-59         [-1, 512, 2, 7, 7]       7,077,888\n",
      "      BatchNorm3d-60         [-1, 512, 2, 7, 7]           1,024\n",
      "             ReLU-61         [-1, 512, 2, 7, 7]               0\n",
      "     Conv3DSimple-62         [-1, 512, 2, 7, 7]       7,077,888\n",
      "      BatchNorm3d-63         [-1, 512, 2, 7, 7]           1,024\n",
      "             ReLU-64         [-1, 512, 2, 7, 7]               0\n",
      "       BasicBlock-65         [-1, 512, 2, 7, 7]               0\n",
      "AdaptiveAvgPool3d-66         [-1, 512, 1, 1, 1]               0\n",
      "           Linear-67                    [-1, 2]           1,026\n",
      "================================================================\n",
      "Total params: 33,167,298\n",
      "Trainable params: 1,026\n",
      "Non-trainable params: 33,166,272\n",
      "----------------------------------------------------------------\n",
      "Input size (MB): 2.30\n",
      "Forward/backward pass size (MB): 545.13\n",
      "Params size (MB): 126.52\n",
      "Estimated Total Size (MB): 673.95\n",
      "----------------------------------------------------------------\n"
     ]
    }
   ],
   "source": [
    "# Load model\n",
    "model_name = \"r3d_18\"\n",
    "model_path = f\"checkpoints/{model_name}_best.pth\"\n",
    "\n",
    "model = build_model_r3d_18()\n",
    "checkpoint = torch.load(model_path, map_location=device)\n",
    "model.load_state_dict(checkpoint['model_state_dict'])\n",
    "model.to(device)\n",
    "model.eval()\n",
    "\n",
    "# Load extra metrics 9using 0s so if the keys dont exist we wont get error\n",
    "epoch = checkpoint.get('epoch', 0)\n",
    "avg_loss = checkpoint.get('avg_loss', 0.0)\n",
    "val_acc = checkpoint.get('val_acc', 0.0)\n",
    "\n",
    "summary(model, input_size=(3, 16, 112, 112))  # Example input shape: (C, D, H, W)\n"
   ]
  },
  {
   "cell_type": "code",
   "execution_count": 56,
   "id": "530fbfb9",
   "metadata": {},
   "outputs": [
    {
     "name": "stdout",
     "output_type": "stream",
     "text": [
      "              precision    recall  f1-score   support\n",
      "\n",
      "    no_crash       0.72      0.77      0.75        75\n",
      "       crash       0.79      0.74      0.76        85\n",
      "\n",
      "    accuracy                           0.76       160\n",
      "   macro avg       0.76      0.76      0.76       160\n",
      "weighted avg       0.76      0.76      0.76       160\n",
      "\n"
     ]
    }
   ],
   "source": [
    "# ========== TEST LOOP ==========\n",
    "all_preds = []\n",
    "all_labels = []\n",
    "\n",
    "with torch.no_grad():\n",
    "    for clips, labels in test_loader:\n",
    "        clips, labels = clips.to(device), labels.to(device)\n",
    "        outputs = model(clips)\n",
    "        _, predicted = torch.max(outputs.data, 1)\n",
    "        all_preds.append(predicted.cpu())\n",
    "        all_labels.append(labels.cpu())\n",
    "\n",
    "all_preds = torch.cat(all_preds)\n",
    "all_labels = torch.cat(all_labels)\n",
    "\n",
    "print(classification_report(\n",
    "    all_preds.cpu().numpy(),\n",
    "    all_labels.cpu().numpy(),\n",
    "    target_names=['no_crash', 'crash']\n",
    "))"
   ]
  },
  {
   "cell_type": "code",
   "execution_count": 57,
   "id": "acfaf478",
   "metadata": {},
   "outputs": [
    {
     "data": {
      "image/png": "[encoded data removed]",
      "text/plain": [
       "<Figure size 640x480 with 2 Axes>"
      ]
     },
     "metadata": {},
     "output_type": "display_data"
    }
   ],
   "source": [
    "cm = confusion_matrix(all_labels.numpy(), all_preds.numpy())\n",
    "disp = ConfusionMatrixDisplay(confusion_matrix=cm, display_labels=[\"no_crash\", \"crash\"])\n",
    "\n",
    "disp.plot(cmap=\"Blues\", values_format=\"d\")\n",
    "plt.title(f\"Test Set Confusion Matrix\")\n",
    "plt.tight_layout()\n",
    "plt.show()"
   ]
  },
  {
   "cell_type": "code",
   "execution_count": 58,
   "id": "32e92c0c",
   "metadata": {},
   "outputs": [],
   "source": [
    "# Compute metrics\n",
    "accuracy = accuracy_score(all_labels, all_preds)\n",
    "precision = precision_score(all_labels, all_preds, average='weighted')\n",
    "recall = recall_score(all_labels, all_preds, average='weighted')\n",
    "f1 = f1_score(all_labels, all_preds, average='weighted')\n",
    "timestamp = datetime.now().strftime(\"%Y%m%d_%H%M%S\")\n",
    "\n",
    "# CSV file path\n",
    "os.makedirs(\"test_metrics\", exist_ok=True)\n",
    "csv_path = f\"test_metrics/test_metrics{timestamp}.csv\"\n",
    "write_header = not os.path.exists(csv_path)\n",
    "\n",
    "# Write to CSV\n",
    "with open(csv_path, mode='a', newline='') as f:\n",
    "    writer = csv.writer(f)\n",
    "    if write_header:\n",
    "        writer.writerow([\"Accuracy\", \"Precision\", \"Recall\", \"F1\", \"Timestamp\"])\n",
    "    writer.writerow([f\"{accuracy:.4f}\", f\"{precision:.4f}\", f\"{recall:.4f}\", f\"{f1:.4f}\", timestamp])\n"
   ]
  }
 ],
 "metadata": {
  "kernelspec": {
   "display_name": ".venv",
   "language": "python",
   "name": "python3"
  },
  "language_info": {
   "codemirror_mode": {
    "name": "ipython",
    "version": 3
   },
   "file_extension": ".py",
   "mimetype": "text/x-python",
   "name": "python",
   "nbconvert_exporter": "python",
   "pygments_lexer": "ipython3",
   "version": "3.10.12"
  }
 },
 "nbformat": 4,
 "nbformat_minor": 5
}
